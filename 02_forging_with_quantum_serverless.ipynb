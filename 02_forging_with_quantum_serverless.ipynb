{
 "cells": [
  {
   "cell_type": "markdown",
   "id": "52acc23d",
   "metadata": {
    "tags": []
   },
   "source": [
    "# Tutorial 2: Entanglement Forging with Quantum Serverless\n",
    "**March 02, 2023 <br/>**\n",
    "**For SCA2023: Future of HPC with Quantum Workshop<br>**\n",
    "This tutorial was generated from [Circuit Knitting toolbox docs](https://github.com/Qiskit-Extensions/circuit-knitting-toolbox/blob/main/docs/tutorials/entanglement_forging/) and [Quantum Serverless docs](https://github.com/Qiskit-Extensions/quantum-serverless/tree/main/docs)\n",
    "\n",
    "**Entanglement forging** is a method which allows us to represent expectation values of a 2n-qubit wavefunction as sums of multiple expectation values of n-qubit states, embedded in a classical optimization, thus doubling the size of the system that can be exactly simulated with a fixed number of qubits.\n",
    "\n",
    "See [Tutorial 1](https://github.com/Qiskit-Extensions/circuit-knitting-toolbox/blob/main/docs/tutorials/entanglement_forging/tutorial_1_getting_started.ipynb) for a high-level breakdown of the entanglement forging algorithm, or check out the [explanatory material](https://github.com/Qiskit-Extensions/circuit-knitting-toolbox/blob/main/docs/explanation/entanglement_forging/index.rst) for a more detailed explanation."
   ]
  },
  {
   "cell_type": "markdown",
   "id": "3dc09a63-5770-43e7-9679-8ba20caa1037",
   "metadata": {},
   "source": [
    "### Adapting entanglement forging for use with `Quantum Serverless`\n",
    "\n",
    "[**Quantum Serverless**](https://github.com/Qiskit-Extensions/quantum-serverless) is a platform built to enable distributed computing across a variety of classical and quantum backends.\n",
    "\n",
    "In this demo, we will show how to configure a ground state workflow with entanglement forging and seamlessly adapt it to run entirely on the cloud using Quantum Serverless.\n",
    "\n",
    "<img src=\"images/forging_with_serverless.png\" width = 50%>"
   ]
  },
  {
   "cell_type": "markdown",
   "id": "d3d50836-48a1-4992-a1fb-12c45701a08b",
   "metadata": {},
   "source": [
    "### Instantiate the `ElectronicStructureProblem`\n",
    "\n",
    "For this tutorial, we will model a system in which H2O is split on a magnesium surface, as described in **Fig. 1(a)** from [arXiv:2203.07536](https://arxiv.org/abs/2203.07536). In particular, we'll compute the ground state energy of the reactant in this reaction. Entanglement forging reduces the total number of qubits needed from 4 to 2.\n",
    "\n",
    "<img src=\"images/mg_structure.png\" width = 50%>\n",
    "\n",
    "Here we read in the system information, populate an `IntegralDriver` object from `Circuit Knitting Toolbox`, and use that driver to instantiate an `ElectronicStructureProblem` from Qiskit."
   ]
  },
  {
   "cell_type": "markdown",
   "id": "6bae153d-393e-49ba-8abd-596e6c43052e",
   "metadata": {},
   "source": [
    "## Entanglement forging overview\n",
    "\n",
    "Entanglement forging [2] was introduced as a way to reduce the number of qubits necessary to perform quantum simulation of chemical or physical systems. In general, to simulate n orbitals in a chemistry problem, one typically needs 2n qubits. Entanglement Forging makes it possible to represent expectation values of a 2n-qubit wavefunction as sums of multiple expectation values of n-qubit states, embedded in a classical computation, thus doubling the size of the system that can be exactly simulated with a fixed number of qubits.\n",
    "\n",
    "Furthermore, Entanglement Forging permits the circuits necessary for the n-qubit simulations to be shallower, relaxing requirements on gate error and connectivity, at the cost of increased quantum and classical run times.\n",
    "\n",
    "The schematic below outlines how the expectation value M of a 2n-qubit wavefunction |ψ>2n with respect to a 2n-qubit Hamiltonian H2n can be decomposed into a sum of expectation values of products of n-qubit wavefunctions with respect to n-qubit operators. These n-qubit expectation values correspond to sub-experiments.\n",
    "\n",
    "<img src=\"images/forging_info_graphic.png\" width = 70%>\n",
    "\n",
    "1. **Decompose**:\n",
    "    * Decompose the 2n-qubit ansatz (wavefunction) into many parameterized, n-qubit ansatze\n",
    "    * Decompose the 2n-qubit observable (Hamiltonian) into many n-qubit observables\n",
    "\n",
    "\n",
    "2. **Evaluate**:\n",
    "    * Use the n-qubit expectation values to reconstruct an estimation of the original 2n-qubit expectation value\n",
    "  \n",
    "  \n",
    "3. **Reconstruct** \n",
    "    * Use the expectation values to reconstruct an estimation of the expectation value for the 2n-qubit system\n",
    "  \n",
    "  \n",
    "4. **If the expectation value (energy) has not converged, update the ansatze parameters and continue with Step 2**"
   ]
  },
  {
   "cell_type": "markdown",
   "id": "faf77d79",
   "metadata": {},
   "source": [
    "### Instantiate the `ElectronicStructureProblem`\n",
    "\n",
    "For this tutorial, we will model a system in which H2O is split on a magnesium surface, as described in Fig. 1(a) from [arXiv:2203.07536](https://arxiv.org/abs/2203.07536). In particular, we'll compute the ground state energy of the reactant in this reaction. Entanglement forging reduces the total number of qubits needed from 4 to 2.\n",
    "\n",
    "Here we read in the system information, populate an `IntegralDriver` object from `Circuit Knitting Toolbox`, and use that driver to instantiate an `ElectronicStructureProblem` from Qiskit."
   ]
  },
  {
   "cell_type": "code",
   "execution_count": 2,
   "id": "4173c15e",
   "metadata": {},
   "outputs": [],
   "source": [
    "from pathlib import Path\n",
    "import numpy as np\n",
    "from qiskit_nature.problems.second_quantization import ElectronicStructureProblem\n",
    "from circuit_knitting_toolbox.utils import IntegralDriver\n",
    "\n",
    "system_data = np.load(\"reactant_2mo.npz\")\n",
    "num_molecular_orbitals = 2\n",
    "\n",
    "driver = IntegralDriver(\n",
    "    hcore=system_data[\"h1\"],\n",
    "    mo_coeff=system_data[\"HF_mo_coeff\"],\n",
    "    eri=system_data[\"Gamma_eri\"],\n",
    "    num_alpha=system_data[\"na\"],\n",
    "    num_beta=system_data[\"nb\"],\n",
    "    nuclear_repulsion_energy=system_data[\"h0\"],\n",
    ")\n",
    "\n",
    "problem = ElectronicStructureProblem(driver)"
   ]
  },
  {
   "cell_type": "markdown",
   "id": "453dde4f",
   "metadata": {},
   "source": [
    "### Configure the entanglement forging specific inputs\n",
    "\n",
    "The ansatz for Entanglement Forging consists of a set of input bitstrings and a parameterized circuit.  (See the [explanatory material](https://github.com/Qiskit-Extensions/circuit-knitting-toolbox/blob/main/docs/explanation/entanglement_forging/index.rst) for additional background on the method). For this demo, we will use the same bitstrings and ansatz for both the U and V subsystems, and we will use the [TwoLocal](https://qiskit.org/documentation/stubs/qiskit.circuit.library.TwoLocal.html) circuit from Qiskit, along with [hop gates](https://doi.org/10.1103/PRXQuantum.3.010309)."
   ]
  },
  {
   "cell_type": "code",
   "execution_count": 3,
   "id": "f25814e9",
   "metadata": {},
   "outputs": [
    {
     "name": "stdout",
     "output_type": "stream",
     "text": [
      "Hop gate:\n",
      "\n"
     ]
    },
    {
     "data": {
      "image/png": "[encoded data removed]",
      "text/plain": [
       "<Figure size 447.652x144.48 with 1 Axes>"
      ]
     },
     "execution_count": 3,
     "metadata": {},
     "output_type": "execute_result"
    }
   ],
   "source": [
    "from qiskit.circuit import QuantumCircuit, Parameter\n",
    "\n",
    "theta = Parameter(\"θ\")\n",
    "\n",
    "hop_gate = QuantumCircuit(2, name=\"hop_gate\")\n",
    "hop_gate.h(0)\n",
    "hop_gate.cx(1, 0)\n",
    "hop_gate.cx(0, 1)\n",
    "hop_gate.ry(-theta, 0)\n",
    "hop_gate.ry(-theta, 1)\n",
    "hop_gate.cx(0, 1)\n",
    "hop_gate.h(0)\n",
    "\n",
    "print(f\"Hop gate:\\n\")\n",
    "hop_gate.draw(output=\"mpl\")"
   ]
  },
  {
   "cell_type": "code",
   "execution_count": 4,
   "id": "67d53b1a",
   "metadata": {},
   "outputs": [
    {
     "data": {
      "image/png": "[encoded data removed]",
      "text/plain": [
       "<Figure size 206.852x144.48 with 1 Axes>"
      ]
     },
     "execution_count": 4,
     "metadata": {},
     "output_type": "execute_result"
    }
   ],
   "source": [
    "from qiskit.circuit.library import TwoLocal\n",
    "from circuit_knitting_toolbox.entanglement_forging import EntanglementForgingAnsatz\n",
    "\n",
    "entangler_map = [[0, 1]]\n",
    "bitstrings_u = [(1, 0), (0, 1)]\n",
    "\n",
    "circuit_u = TwoLocal(num_molecular_orbitals, [], hop_gate, entangler_map, reps=1)\n",
    "ansatz = EntanglementForgingAnsatz(\n",
    "    circuit_u=circuit_u,\n",
    "    bitstrings_u=bitstrings_u,\n",
    ")\n",
    "ansatz.circuit_u.draw(\"mpl\")"
   ]
  },
  {
   "cell_type": "markdown",
   "id": "a88fe497",
   "metadata": {},
   "source": [
    "### Set up the Qiskit Runtime Service\n",
    "\n",
    "The Qiskit Runtime Service provides access to Qiskit Runtime Primitives and quantum backends. See the [Qiskit Runtime documentation](https://qiskit.org/documentation/partners/qiskit_ibm_runtime/) for more information.  Here, we specify the backend(s) to be used to evaluate the circuits. Backends could be [simulator(s) and/or quantum device(s)](https://quantum-computing.ibm.com/services/resources?tab=systems).\n",
    "\n",
    "Alternatively, if a Qiskit Runtime Service is not passed, then a local simulator will be used with the [Qiskit Primitives](https://qiskit.org/documentation/apidoc/primitives.html), and the `backend_names` argument will be ignored."
   ]
  },
  {
   "cell_type": "code",
   "execution_count": 5,
   "id": "76453753",
   "metadata": {},
   "outputs": [],
   "source": [
    "from qiskit_ibm_runtime import QiskitRuntimeService, Options\n",
    "\n",
    "# Uncomment the following line to instead use the Qiskit Runtime Service.\n",
    "service = QiskitRuntimeService(channel=\"ibm_quantum\")\n",
    "\n",
    "# By default, use a local simulator to implement the Qiskit Runtime Primitives\n",
    "# service = None\n",
    "\n",
    "backend_names = [\"ibmq_qasm_simulator\"] * 2\n",
    "# backend_names = [[\"ibmq_lima\"],[\"ibmq_manila\"]]\n",
    "\n",
    "# If a single set of options are passed, it will be applied to all backends\n",
    "options = [Options(execution={\"shots\": 1000}), Options(execution={\"shots\": 2000})]"
   ]
  },
  {
   "cell_type": "markdown",
   "id": "5b77cbc9",
   "metadata": {},
   "source": [
    "### Set up Quantum Serverless\n",
    "\n",
    "We can use Quantum Serverless to send the entanglement forging routine to a remote compute resource. For this tutorial, we will use our local CPU cores as the compute cluster. See the [Quantum Serverless](https://github.com/Qiskit-Extensions/quantum-serverless) documentation (and below) for more information about how to use other clusters."
   ]
  },
  {
   "cell_type": "markdown",
   "id": "468f3c46-b817-4e81-96a2-5b92729f46e9",
   "metadata": {},
   "source": [
    "**Compute resources**\n",
    "\n",
    "Compute resources can be described as set of computational nodes with resources associated to each of them.\n",
    "Nodes are performing computation itself. \n",
    "Distributed storage is for accessing sharable resources between nodes.\n",
    "\n",
    "![compute resources](https://raw.githubusercontent.com/Qiskit-Extensions/quantum-serverless/main/docs/tutorials/images/diagrams_compute_resource.png)\n",
    "\n",
    "\n",
    "In order to resolve distributed compute we need a way to orchestrate our workloads on remote resources.\n",
    "\n",
    "**Object**\n",
    "\n",
    "Let's first look how to turn a local object into a remote one.\n",
    "\n",
    "To turn your local object to distributed one you need to call `put` function. \n",
    "It will serialize your object and send it to distributed storage and return you a reference to remote object location. \n",
    "\n",
    "![objects diagram](https://raw.githubusercontent.com/Qiskit-Extensions/quantum-serverless/main/docs/tutorials/images/diagrams_put.png)\n",
    "\n",
    "Example\n",
    "\n",
    "```python\n",
    "cirucit = QuantumCircuit(N, M)\n",
    "...\n",
    "circuit_reference = quantum_serverless.put(circuit)\n",
    "```\n",
    "\n",
    "Now we know how to move local object to remote compute resource. \n",
    "Next we need to do something with it. For this we will have remote functions.\n",
    "\n",
    "**Functions**\n",
    "\n",
    "As a second step we need to know how to transform our local function into remote one. \n",
    "\n",
    "In order to do that you need to annotate function with `run_qiskit_remote` decorator. \n",
    "This will turn your function into remote executable.  \n",
    "\n",
    "![functions diagram](https://raw.githubusercontent.com/Qiskit-Extensions/quantum-serverless/main/docs/tutorials/images/diagrams_function.png)\n",
    "\n",
    "All you need to do now is call this function and it will be executed as a remote procedure automatically. \n",
    "\n",
    "If you run N instances of this function in parallel you need just call it N times in a loop. \n",
    "The result of the following code will be a list of references to execution results.\n",
    "\n",
    "Example\n",
    "\n",
    "```python\n",
    "@quantum_serverless.run_qiskit_remote()\n",
    "def exp_val_remote(cirucit, obs):\n",
    "    estimator = Estimator(...)\n",
    "    return estimator.run(circuit, obs)\n",
    "\n",
    "obs: Operator = ...\n",
    "\n",
    "exp_val_execution_reference = exp_val_remote(circuit, obs)\n",
    "\n",
    "circuit_list: List[QuantumCircuit] = [...]\n",
    "\n",
    "obs_ref = quantum_serverless.put(obs)\n",
    "\n",
    "exp_val_execution_references = [\n",
    "    exp_val_remote(circ, obs_ref) \n",
    "    for circ in circuit_list\n",
    "]\n",
    "```\n",
    "\n",
    "As you can see we are passing an observable by refernce and circuits by values. Attributes passed by value will be converted to remote objects automatically and resolved within the remote function. We are passing observable by referece because we know it is the same one shared by all parallel function invocations, so we are saving some space. \n",
    "\n",
    "**Collecting results**\n",
    "\n",
    "And of course you need to collect your results back from remote resources. \n",
    "In order to do that you need to call the `get` function, which can be applied to object and function references or, alternatively, to a list of references.\n",
    "\n",
    "![collecting results diagram](https://raw.githubusercontent.com/Qiskit-Extensions/quantum-serverless/main/docs/tutorials/images/diagram_get.png)\n",
    "\n",
    "Example\n",
    "\n",
    "```python\n",
    "collected_circuit = quantum_serverless.get(circuit_reference)\n",
    "# <QuantumCircuit ...>\n",
    "\n",
    "collected_exp_value = quantum_serverless.get(exp_val_execution_reference)\n",
    "# <EstimatorResult ...>\n",
    "collected_exp_values = quantum_serverless.get(exp_val_execution_references)\n",
    "# [<EstimatorResult ...>, <EstimatorResult ...>, ...]\n",
    "```"
   ]
  },
  {
   "cell_type": "markdown",
   "id": "12048a2a-c1a3-45af-ad79-4794bb9d72f9",
   "metadata": {},
   "source": [
    "**Resource allocation**\n",
    "\n",
    "Some functions are more demanding than others. \n",
    "To allocate specific resources to a function, the decorator accepts `target` parameter.\n",
    "For example, your function may require 2 cpus to be executed. You can pass `target={'cpu': 2}` to decorator and this function will request 2 cpus from your resource capacity to be executed.\n",
    "\n",
    "![resource allocation diagram](https://raw.githubusercontent.com/Qiskit-Extensions/quantum-serverless/main/docs/tutorials/images/diagrams_resource_allocation.png)\n",
    "\n",
    "Example\n",
    "\n",
    "```python\n",
    "@quantum_serverless.run_qiskit_remote(target={\"cpu\": 2, \"mem\": 8})\n",
    "def exp_val_remote(cirucit, obs):\n",
    "    estimator = Estimator(...)\n",
    "    exp_val_result = estimator.run(circuit, obs)\n",
    "    ...\n",
    "    return result\n",
    "```\n",
    "\n",
    "**Execution management**\n",
    "\n",
    "Now we figured how to convert our function and objects into remote counterparts and how to request for specific resources.\n",
    "Next step would be deciding where to run your workloads. \n",
    "\n",
    "To have control over location of compute we use configurations in `QuantumServerless` object and python context managers. \n",
    "\n",
    "`QuantumServerless` has a notion of `providers` which are abstractions to define where your compute resources are located.\n",
    "\n",
    "By default you always have a `local` provider which is your local machine where nodes and local cores.\n",
    "And you can configure as many providers as you want.\n",
    "\n",
    "![execution management diagram](https://raw.githubusercontent.com/Qiskit-Extensions/quantum-serverless/main/docs/tutorials/images/diagrams_context_management.png)\n",
    "\n",
    "Example\n",
    "\n",
    "```python\n",
    "serverless = QuantumServerless({\"providers\": [...]})\n",
    "serverless = QuantumServerless.load_configuration(\"<PATH_TO_CONFIG_FILE>\")\n",
    "print(serverless)\n",
    "# <QuantumServerless: providers [local, ibm-cloud, ...]>\n",
    "\n",
    "with serverless.context(\"local\"):\n",
    "    exp_val_execution_reference = exp_val_remote(circuit, obs)\n",
    "    collected_exp_value = quantum_serverless.get(exp_val_execution_reference)\n",
    "\n",
    "with serverless.context(\"ibm-cloud\"):\n",
    "    exp_val_execution_reference = exp_val_remote(circuit, obs)\n",
    "    collected_exp_value = quantum_serverless.get(exp_val_execution_reference)\n",
    "```"
   ]
  },
  {
   "cell_type": "code",
   "execution_count": 6,
   "id": "ec28c8e4",
   "metadata": {},
   "outputs": [
    {
     "data": {
      "text/plain": [
       "[<Provider: local>]"
      ]
     },
     "execution_count": 6,
     "metadata": {},
     "output_type": "execute_result"
    }
   ],
   "source": [
    "from quantum_serverless import QuantumServerless\n",
    "\n",
    "serverless = QuantumServerless()\n",
    "serverless.providers()"
   ]
  },
  {
   "cell_type": "markdown",
   "id": "e00110ce",
   "metadata": {
    "tags": []
   },
   "source": [
    "### Create a wrapper function to send to the remote cluster\n",
    "\n",
    "Use Quantum Serverless to send the `solve_remote` method to a remote cluster.\n",
    "\n",
    "Here we create a wrapper function for `EntanglementForgingGroundStateSolver` and its `solve` method, and we annotate it with the `@run_qiskit_remote()` decorator from Quantum Serverless. This allows us to call this function from a serverless context and have it sent for remote execution on the specified cluster."
   ]
  },
  {
   "cell_type": "code",
   "execution_count": 7,
   "id": "a940a226",
   "metadata": {},
   "outputs": [],
   "source": [
    "from typing import Optional, Sequence, Tuple, Dict, Union\n",
    "from qiskit.algorithms.optimizers import Optimizer\n",
    "from qiskit.result import Result\n",
    "from quantum_serverless import run_qiskit_remote\n",
    "from circuit_knitting_toolbox.entanglement_forging import (\n",
    "    EntanglementForgingGroundStateSolver,\n",
    ")\n",
    "\n",
    "\n",
    "@run_qiskit_remote(target={\"cpu\": 2})\n",
    "def solve_remote(\n",
    "    problem: ElectronicStructureProblem,\n",
    "    ansatz: EntanglementForgingAnsatz,\n",
    "    optimizer: Optimizer,\n",
    "    service_args: Optional[Dict] = None,\n",
    "    backend_names: Optional[Union[str, Sequence[str]]] = None,\n",
    "    options_dicts: Optional[Union[Dict, Sequence[Dict]]] = None,\n",
    "    initial_point: Optional[Sequence[float]] = None,\n",
    "    orbitals_to_reduce: Optional[Sequence[int]] = None,\n",
    ") -> Result:\n",
    "    \"\"\"\n",
    "    Wrapper function for running entanglement forging VQE on a remote resource.\n",
    "\n",
    "        Args:\n",
    "            - problem: A class encoding the problem to be solved\n",
    "            - ansatz: The ansatz\n",
    "            - optimizer: Optimizer to use to optimize the ansatz circuit parameters\n",
    "            - service_args: The arguments for instantiating a QiskitRuntimeService\n",
    "            - backend_names: List of backend names to use during parallel computation\n",
    "            - options_dicts: Options to use with backends\n",
    "            - initial_point: Initial values for ansatz parameters\n",
    "            - orbitals_to_reduce: List of orbital indices to remove from the problem before\n",
    "                decomposition.\n",
    "        Returns:\n",
    "            - An interpreted EigenstateResult\n",
    "    \"\"\"\n",
    "    service = QiskitRuntimeService(**service_args) if service_args else None\n",
    "\n",
    "    # Convert options dictionaries into Options objects\n",
    "    options = None\n",
    "    if options_dicts:\n",
    "        if isinstance(options_dicts, Dict):\n",
    "            options_dicts = [options_dicts]\n",
    "        options = [Options(**o) for o in options_dicts]\n",
    "\n",
    "    solver = EntanglementForgingGroundStateSolver(\n",
    "        ansatz=ansatz,\n",
    "        service=service,\n",
    "        optimizer=optimizer,\n",
    "        backend_names=backend_names,\n",
    "        options=options,\n",
    "        initial_point=initial_point,\n",
    "        orbitals_to_reduce=orbitals_to_reduce,\n",
    "    )\n",
    "    result = solver.solve(problem)\n",
    "\n",
    "    return result"
   ]
  },
  {
   "cell_type": "markdown",
   "id": "0a2b14a5",
   "metadata": {
    "tags": []
   },
   "source": [
    "### Run entanglement forging on a remote cluster\n",
    "\n",
    "Once a user has set up their `ElectronicStructureProblem`, `EntanglementForgingAnsatz`, and other program options, the only thing remaining is call `EntanglementForgingGroundStateSolver.solve`, which we have wrapped in the `solve_remote` function.\n",
    "\n",
    "We will call the `solve_remote` function within a QuantumServerless context, which means it will be run on the specified cluster. Remember, the default cluster for this demo will use the cores on our local CPU. To specify a new cluster, the `QuantumServerless.set_provider` method should be used.\n",
    "\n",
    "When the remote function is called, it will return a \"future\" object, and Python will continue interpreting the next line of code. The `get` function is a blocking command which should be used to retrieve the results of the remote function via the \"future\" object. The program will not continue past the `get` call until the results of the remote function are returned."
   ]
  },
  {
   "cell_type": "code",
   "execution_count": 8,
   "id": "7b890400",
   "metadata": {},
   "outputs": [],
   "source": [
    "%%capture\n",
    "from dataclasses import asdict\n",
    "from qiskit.algorithms.optimizers import COBYLA, SLSQP, SPSA\n",
    "from quantum_serverless import get\n",
    "\n",
    "optimizer = COBYLA(maxiter = 100)\n",
    "\n",
    "# QiskitRuntimeService is not serializable, so we must convert it to a dictionary before passing to remote function\n",
    "service_args = None if service is None else service.active_account()\n",
    "\n",
    "# The Options class is not serializable, so we must convert it to a dictionary before passing to remote function\n",
    "options_dicts = [asdict(o) for o in options]\n",
    "\n",
    "# serverless.set_provider(\"aws\") or serverless.set_provider(\"ibm\") or serverless.set_provider(\"azure\")\n",
    "with serverless:\n",
    "    forging_result_future = solve_remote(\n",
    "        problem,\n",
    "        ansatz,\n",
    "        optimizer,\n",
    "        service_args=service_args,\n",
    "        backend_names=backend_names,\n",
    "        options_dicts=options_dicts,\n",
    "    )\n",
    "    results = get(forging_result_future)"
   ]
  },
  {
   "cell_type": "markdown",
   "id": "4e1bee2d-f90e-451b-b921-7ccfb68a1c8b",
   "metadata": {},
   "source": [
    "#### Optional: Guide to multi cloud deployment \n",
    "\n",
    "The guide here shows you step by step how to deploy these resources to be able to load and use that client with your desired configuration https://github.com/Qiskit-Extensions/quantum-serverless/blob/main/docs/guides/08_multi_cloud_deployment.rst"
   ]
  },
  {
   "cell_type": "code",
   "execution_count": 13,
   "id": "1a66f3f4-3fcd-45f5-a9bf-5893b2851dad",
   "metadata": {},
   "outputs": [],
   "source": [
    "# Configuration constructor arguments example\n",
    "# serverless = QuantumServerless({\n",
    "#     \"providers\": [{\n",
    "#         \"name\": \"Sca2023_provider\",  # provider name\n",
    "#         \"compute_resource\": { # main computational resource\n",
    "#             \"name\": \"my_resource\", # cluster name\n",
    "#             \"host\": \"HOST_ADDRESS_OF_CLUSTER_HEAD_NODE\", # cluster host address, if you are using helm it will be DEPLOYMENT_NAME-kuberay-head-svc\n",
    "#         }\n",
    "#     }]\n",
    "# })\n",
    "\n",
    "# Other option will be creating an instance from configuration file, which has exactly the same structure as example above.\n",
    "#\n",
    "# serverless = QuantumServerless.load_configuration(\"./serverless_config.json\")"
   ]
  },
  {
   "cell_type": "markdown",
   "id": "d3875019-c180-471d-b9dd-5b6f6a80e805",
   "metadata": {},
   "source": [
    "#### Optional: Running as an async script\n",
    "In most of the cases we want to run our scripts as async programs, so we can lunch them and forget, then later on check results. In order to do so we will use Program interface.\n"
   ]
  },
  {
   "cell_type": "code",
   "execution_count": 7,
   "id": "e8dc7523-8eee-4968-8561-3418fd23ca90",
   "metadata": {},
   "outputs": [
    {
     "data": {
      "text/plain": [
       "<Job | fqs_9ae47383-3c21-41ab-84f6-61a969a68b06>"
      ]
     },
     "execution_count": 7,
     "metadata": {},
     "output_type": "execute_result"
    }
   ],
   "source": [
    "# from quantum_serverless import Program\n",
    "#\n",
    "# program = Program(\n",
    "#     name=\"awesome_program\",\n",
    "#     entrypoint=\"some_program.py\",\n",
    "#     working_dir=\"\"./source_files/\"\",\n",
    "#     description=\"description of a program\",\n",
    "#     version=\"0.0.1\"\n",
    "# )\n",
    "#\n",
    "# job = serverless.run_program(program)\n",
    "# job"
   ]
  },
  {
   "cell_type": "markdown",
   "id": "9601ac33",
   "metadata": {},
   "source": [
    "\n",
    "### Visualize the results\n",
    "\n",
    "Visualize the convergence of the estimated ground state energy and the Schmidt coefficients as the ansatz parameters are optimized."
   ]
  },
  {
   "cell_type": "code",
   "execution_count": 9,
   "id": "97ae8342",
   "metadata": {},
   "outputs": [
    {
     "name": "stdout",
     "output_type": "stream",
     "text": [
      "Energy:\n"
     ]
    },
    {
     "data": {
      "image/png": "[encoded data removed]",
      "text/plain": [
       "<Figure size 432x288 with 1 Axes>"
      ]
     },
     "metadata": {
      "needs_background": "light"
     },
     "output_type": "display_data"
    },
    {
     "name": "stdout",
     "output_type": "stream",
     "text": [
      "Schmidt Coefficients:\n"
     ]
    },
    {
     "data": {
      "image/png": "[encoded data removed]",
      "text/plain": [
       "<Figure size 432x288 with 1 Axes>"
      ]
     },
     "metadata": {
      "needs_background": "light"
     },
     "output_type": "display_data"
    },
    {
     "name": "stdout",
     "output_type": "stream",
     "text": [
      "Parameters:\n"
     ]
    },
    {
     "data": {
      "image/png": "[encoded data removed]",
      "text/plain": [
       "<Figure size 432x288 with 1 Axes>"
      ]
     },
     "metadata": {
      "needs_background": "light"
     },
     "output_type": "display_data"
    }
   ],
   "source": [
    "import matplotlib.pyplot as plt\n",
    "\n",
    "print(\"Energy:\")\n",
    "plt.plot([evaluation.eigenvalue for evaluation in results.history])\n",
    "plt.xlabel(\"Iterations\")\n",
    "plt.show()\n",
    "\n",
    "print(\"Schmidt Coefficients:\")\n",
    "plt.plot([abs(evaluation.eigenstate) for evaluation in results.history])\n",
    "plt.xlabel(\"Iterations\")\n",
    "plt.yscale(\"log\")\n",
    "plt.show()\n",
    "\n",
    "print(\"Parameters:\")\n",
    "plt.plot([evaluation.parameters for evaluation in results.history])\n",
    "plt.xlabel(\"Iterations\")\n",
    "plt.show()"
   ]
  },
  {
   "cell_type": "code",
   "execution_count": 41,
   "id": "807204bb",
   "metadata": {},
   "outputs": [
    {
     "data": {
      "text/html": [
       "<h3>Version Information</h3><table><tr><th>Qiskit Software</th><th>Version</th></tr><tr><td><code>qiskit-terra</code></td><td>0.22.4</td></tr><tr><td><code>qiskit-aer</code></td><td>0.11.2</td></tr><tr><td><code>qiskit-ibmq-provider</code></td><td>0.19.2</td></tr><tr><td><code>qiskit</code></td><td>0.39.5</td></tr><tr><td><code>qiskit-nature</code></td><td>0.5.0</td></tr><tr><td><code>qiskit-finance</code></td><td>0.3.4</td></tr><tr><td><code>qiskit-optimization</code></td><td>0.5.0</td></tr><tr><td><code>qiskit-machine-learning</code></td><td>0.5.0</td></tr><tr><th>System information</th></tr><tr><td>Python version</td><td>3.9.13</td></tr><tr><td>Python compiler</td><td>Clang 12.0.0 </td></tr><tr><td>Python build</td><td>main, Aug 25 2022 18:29:29</td></tr><tr><td>OS</td><td>Darwin</td></tr><tr><td>CPUs</td><td>8</td></tr><tr><td>Memory (Gb)</td><td>16.0</td></tr><tr><td colspan='2'>Mon Feb 27 00:22:42 2023 +08</td></tr></table>"
      ],
      "text/plain": [
       "<IPython.core.display.HTML object>"
      ]
     },
     "metadata": {},
     "output_type": "display_data"
    }
   ],
   "source": [
    "import qiskit.tools.jupyter\n",
    "\n",
    "%qiskit_version_table"
   ]
  },
  {
   "cell_type": "markdown",
   "id": "818d68b2",
   "metadata": {},
   "source": [
    "### This code is a Qiskit project.\n",
    "\n",
    "© Copyright IBM 2022.\n",
    "\n",
    "This code is licensed under the Apache License, Version 2.0. You may\n",
    "obtain a copy of this license in the LICENSE.txt file in the root directory\n",
    "of this source tree or at http://www.apache.org/licenses/LICENSE-2.0.\n",
    "\n",
    "Any modifications or derivative works of this code must retain this\n",
    "copyright notice, and modified files need to carry a notice indicating\n",
    "that they have been altered from the originals."
   ]
  }
 ],
 "metadata": {
  "kernelspec": {
   "display_name": "Python 3",
   "language": "python",
   "name": "python3"
  },
  "language_info": {
   "codemirror_mode": {
    "name": "ipython",
    "version": 3
   },
   "file_extension": ".py",
   "mimetype": "text/x-python",
   "name": "python",
   "nbconvert_exporter": "python",
   "pygments_lexer": "ipython3",
   "version": "3.9.13"
  }
 },
 "nbformat": 4,
 "nbformat_minor": 5
}
